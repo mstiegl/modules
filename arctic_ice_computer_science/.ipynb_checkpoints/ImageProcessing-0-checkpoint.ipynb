{
 "cells": [
  {
   "cell_type": "markdown",
   "metadata": {},
   "source": [
    "# Computational Guided Inquiry for Polar Research\n",
    "\n",
    "## Processing Sea Ice Images - 1. Arctic sea ice images\n",
    "\n",
    "### Learning Objectives\n",
    "1. Learn how to view images of Arctic sea ice taken by the MODIS instrument.\n",
    "2. Learn how to download an image onto your computer.\n",
    "3. Learn how to load an image into the Jupyter Notebook.\n",
    "4. Examine annual and long-term trends in Arctic and Antarctic sea ice.\n",
    "\n",
    "### Pre-class activities\n",
    "1. Read the Introduction (stop at Part I).\n",
    "2. Go to the MODIS website, read about the MODIS instrument, and examine some of the images.\n",
    "3. Bookmark your favorite image.\n",
    "2. Define the terms anthropogenic, albedo, and positive feedback.\n",
    "\n"
   ]
  },
  {
   "cell_type": "markdown",
   "metadata": {},
   "source": [
    "### Introduction\n",
    "\n",
    "_Climate connection_  \n",
    "Man-made, or _anthropogenic_ climate change is leading to warming of Earth's average global temepratures. The polar regions are particularly sensitive to warming for a variety of reasons. Chief among these is the _ice-albedo feedback_. Ice is highly reflective, reflecting about 80% of the sunglight that hits it. This reflectivity is referred to as _albedo_, and the fact that ice has a high albedo helps keep it cool. As anthropogenic warming causes sea ice melt, the underlying ocean is exposed. The albedo of the ocean is quite low, and the ocean absorbs 90% of the sunlight hitting it. Thus, the more sea ice melts, the more sunlight is absorbed, further accelerating warming. A process such as this is known as a _positive feedback_. \n",
    "\n",
    "Arctic sea ice extent varies over the course of each year, reaching a minimum in September. Measured in September, Arctic sea ice is declining at a rate of 13.3% per decade, with serious consequences for people and animals. Perhaps the most well-known negative consequence is the reduction in habitat for polar bears, who rely on sea ice for hunting. However, there are a variety of other impacts, including sea level rise, changes in ocean circulation, changes in winter weather patterns, melting of permafrost, damage to Arctic habitat, and the opening of the NorthWest passage. \n"
   ]
  },
  {
   "cell_type": "markdown",
   "metadata": {},
   "source": [
    "_Polar connection: the MODIS instrument_  \n",
    "\n",
    "The Moderate Resolution Imaging Spectrometer (MODIS) instrument is part of NASA's Earth Observing System. MODIS instruments on two satellites image the entire Earth every 1 to 2 days. MODIS has a _viewing swath_ width of 2,330 km, imaging Earth at 3 spatial resolutions, in 36 spectral bands. These spectral bands include 645, 555, and 469 nanometers, corresponding to red, green, and blue light, allowing the creation of color images such as our eyes see. The other spectral bands include the thermal infrared. As part of the pre-class activities, read about MODIS here: https://modis.gsfc.nasa.gov/about/ and here: https://modis.gsfc.nasa.gov/about/media/modis_brochure.pdf. \n",
    "\n",
    "As part of the pre-class activities, view images of the Arctic taken from the MODIS instrument, at https://lance-modis.eosdis.nasa.gov/cgi-bin/imagery/viirs.cgi. Hover your mouse over an image to see a view of the globe and identify where the image was taken. Here we will focus on images of the Arctic. If you double-click on an image, you can look at it in more detail. You can scroll over dates with the arrows at the top left. Find your favorite image and take note of it, bookmarking the page. Make sure your image is from the Arctic and contains some ice.\n",
    "\n",
    "_Computer Science connection_\n",
    "\n",
    "In this module you will learn how to load an image in to Python and think about how you might use image processing techniques to distinguish features on it."
   ]
  },
  {
   "cell_type": "markdown",
   "metadata": {},
   "source": [
    "### Part 1. Downloading your favorite Arctic image to your computer\n",
    "\n",
    "Go back to the page you bookmarked. Double-click your image. In the new window that opens, there is a panel on the left with some options, including pixel size and thumbnail images for three different sets of spectral bands. The large image on the right shows the selected image. The \"true color\" image should be shown. If not, click on the thumbnail of the truecolor image in the left panel. \n",
    "\n",
    "<True-color: Red = 640 nm = I1, Green = 555 nm = M4, Blue = 488 nm = M3>\n",
    "\n",
    "\n",
    "From the left panel, experiment with different pixel sizes. The larger the pixel size, the smaller the image. A pixel size of 3 km corresponds to an image of about 4 KB, whereas a pixel size of 375 m corresponds to an image of about 6 MB. Select a pixel size of 375 m, or as indicated by your instructor.\n",
    "\n",
    "To save the image to your computer, right click or Ctrl Click the image in the right panel and select \"download image.\" The image should be saved in your Download Folder. Move it into the folder containing this Jupyter Notebook or another folder, as directed by your instructor. Rename it \"myIceImage.jpg.\"\n",
    "\n",
    "Repeat the above but this time select the image on the left labelled \"Bands M3-I3-M11.\" (This is a false-color image of two shortwave/Infrared bands and the blue band, where the blue is shown as red.) Be sure to choose the same pixel size as previously. Save this image in the same folder and rename it to \"myIceImage2.jpg.\" \n",
    "<False-color: Blue = 488 nm = M3, SWIR = 1610 nm = I3, SWIR = 2250 nm = M11>\n",
    "\n"
   ]
  },
  {
   "cell_type": "markdown",
   "metadata": {},
   "source": [
    "### Loading an image onto the Juypter Notebook"
   ]
  },
  {
   "cell_type": "code",
   "execution_count": null,
   "metadata": {},
   "outputs": [],
   "source": [
    "# Following are the modules we will need.\n",
    "import matplotlib.pyplot as plt\n",
    "import imageio\n"
   ]
  },
  {
   "cell_type": "markdown",
   "metadata": {},
   "source": [
    "Read in the image and save it to a variable. We will read it in with misc from the scipy module."
   ]
  },
  {
   "cell_type": "code",
   "execution_count": null,
   "metadata": {},
   "outputs": [],
   "source": [
    "myimage = imageio.imread('myIceImage.jpg')\n"
   ]
  },
  {
   "cell_type": "markdown",
   "metadata": {},
   "source": [
    "Check the size of the image. Here we examine including the dimensions (shape) and the type of the data."
   ]
  },
  {
   "cell_type": "code",
   "execution_count": null,
   "metadata": {},
   "outputs": [],
   "source": [
    "print(myimage.shape, myimage.dtype)"
   ]
  },
  {
   "cell_type": "markdown",
   "metadata": {},
   "source": [
    "Show the image."
   ]
  },
  {
   "cell_type": "code",
   "execution_count": null,
   "metadata": {},
   "outputs": [],
   "source": [
    "%matplotlib notebook\n",
    "\n",
    "plt.figure()\n",
    "plt.imshow(myimage)\n",
    "plt.axis('off')     # Remove axis ticks and numbers\n",
    "plt.axis('image')   # Set aspect ratio to obtain square pixels."
   ]
  },
  {
   "cell_type": "markdown",
   "metadata": {},
   "source": [
    "### Pause for analysis\n",
    "\n",
    "Looking at the image above, try to distinguish between land, ocean, shadow, sea ice, snow, and cloud. For what parts of the image do you believe you can distinguish between sea ice, snow, and cloud and what techniques do you use (e.g. I assume a swirling feature is a cloud). Record your ideas in your notebook.\n",
    "    "
   ]
  },
  {
   "cell_type": "markdown",
   "metadata": {},
   "source": [
    "### Test your skill\n",
    "\n",
    "Load \"myIceImage2.jpg\" as myImage2 and plot it below. Describe any extra information this image provides that might help distinguish between sea ice, land ice/snow and clouds."
   ]
  },
  {
   "cell_type": "code",
   "execution_count": null,
   "metadata": {},
   "outputs": [],
   "source": []
  },
  {
   "cell_type": "markdown",
   "metadata": {},
   "source": [
    "### Examining annual and long-term trends in Arctic sea ice. \n",
    "\n",
    "Go to the website https://nsidc.org/data/seaice_index/archives/image_select.html. Here you can use the Sea Ice Animation Tool, provided by the National Snow and Ice Data Center (NSIDC). These images, created using a satellite microwave sensor, do not have any cloud contamination.\n",
    "\n",
    "Select 2016 as the start year and play the movie to see the sea ice change over the course of a year. In what month is the sea ice at a maximum?  a minimum?\n",
    "\n",
    "Next, select 1979 as the start year and replay the movie. Note that the seasonal cycle makes it difficult to see trends over the years.\n",
    "\n",
    "To see the trends over time, we look only at the month of September, when the sea ice is a minimum for the year. Select 1979 as the start year, select September as the start month, and click on Fixed Month Animation. Play the movie to see the long term trends in sea ice decline. \n",
    "\n",
    "(Optional) Repeat the above for the Antarctic by selecting \"Southern\" for Hemisphere. Note that the Antarctic sea ice is a minimum in a different month.\n"
   ]
  },
  {
   "cell_type": "markdown",
   "metadata": {},
   "source": [
    "Pause for Analysis: \n",
    "\n",
    "The images shown in this animation are much simpler than the MODIS image. At the bottom of each image, the total sea ice extent is given in millions of square miles. Decribe how you might calculate this number from the image. "
   ]
  },
  {
   "cell_type": "code",
   "execution_count": null,
   "metadata": {},
   "outputs": [],
   "source": []
  }
 ],
 "metadata": {
  "anaconda-cloud": {},
  "kernelspec": {
   "display_name": "Python 3",
   "language": "python",
   "name": "python3"
  },
  "language_info": {
   "codemirror_mode": {
    "name": "ipython",
    "version": 3
   },
   "file_extension": ".py",
   "mimetype": "text/x-python",
   "name": "python",
   "nbconvert_exporter": "python",
   "pygments_lexer": "ipython3",
   "version": "3.6.7"
  }
 },
 "nbformat": 4,
 "nbformat_minor": 1
}
